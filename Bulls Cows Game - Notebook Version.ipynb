{
  "cells": [
    {
      "cell_type": "code",
      "execution_count": 2,
      "metadata": {},
      "outputs": [],
      "source": [
        "import random"
      ]
    },
    {
      "cell_type": "markdown",
      "metadata": {},
      "source": [
        "Game Parameters:"
      ]
    },
    {
      "cell_type": "code",
      "execution_count": 3,
      "metadata": {},
      "outputs": [],
      "source": [
        "colorslist = ['1','2','3','4','5','6','7','8','9','0']  # Digits version \n",
        "# colorslist = ['Red','Yellow','Blue','Green','Tourqise','Pink','Purple','White','Cyan','Black'] # Colors version \n",
        "repeated_colors = False   # If the same color can be chosen more than once (DO NOT SET TO TRUE!)\n",
        "choices = 4  # Amount of colors to choose\n",
        "isguesslimit = True # Whether the game ends after x amount of rounds regardless of results or played untill win\n",
        "guesslimit = 100 # If Above is true, the maximum amount of guesses before round is over"
      ]
    },
    {
      "cell_type": "markdown",
      "metadata": {},
      "source": [
        "Functions:"
      ]
    },
    {
      "cell_type": "code",
      "execution_count": 4,
      "metadata": {},
      "outputs": [],
      "source": [
        "def choice_generator(colors_list, choices, repeated_colors):\n",
        "  random.seed()\n",
        "  lchoice = []\n",
        "  i = 0\n",
        "  while i < choices:\n",
        "      choice = random.randint(0, len(colors_list) - 1)\n",
        "      if repeated_colors == True:\n",
        "          lchoice.append(colors_list[choice])\n",
        "          i += 1\n",
        "      else:\n",
        "          if colors_list[choice] in lchoice:\n",
        "              continue\n",
        "          else:\n",
        "              lchoice.append(colors_list[choice])\n",
        "              i +=1\n",
        "  return lchoice\n"
      ]
    },
    {
      "cell_type": "code",
      "execution_count": 5,
      "metadata": {},
      "outputs": [],
      "source": [
        "def scoring(players_choices , computers_choices):\n",
        "    scoringdict = {'Bulls' : 0 , 'Cows' : 0}\n",
        "\n",
        "    for choice in computers_choices:\n",
        "        if repeated_colors == False:\n",
        "            if choice not in players_choices:\n",
        "                continue\n",
        "            else:\n",
        "                if computers_choices.index(choice) == players_choices.index(choice):\n",
        "                    scoringdict['Bulls'] += 1\n",
        "                else:\n",
        "                    scoringdict['Cows'] += 1\n",
        "\n",
        "        else: # Soon\n",
        "            pass\n",
        "    return scoringdict"
      ]
    },
    {
      "cell_type": "code",
      "execution_count": 6,
      "metadata": {},
      "outputs": [],
      "source": [
        "def score(colors_list, p_choice , c_choice , prev_score = None , prev_guesses = None , guessnum = 1):\n",
        "\n",
        "    rscore = scoring(p_choice , c_choice)\n",
        "\n",
        "    # Initial condition\n",
        "    if guessnum == 1:\n",
        "        secondchoice = guess(p_choice,rscore)\n",
        "        return score( secondchoice[1], secondchoice[0] , c_choice , [rscore] , [p_choice] , guessnum + 1)\n",
        "\n",
        "    scores_list = prev_score[:]\n",
        "    guesses_list = prev_guesses[:]\n",
        "\n",
        "    # End conditions\n",
        "    if rscore['Bulls'] == choices:   # All colors are bulls\n",
        "        return game_summary(c_choice , guessnum , True)\n",
        "\n",
        "    if isguesslimit == True:  # Reached guess limit\n",
        "        if guesslimit == guessnum:\n",
        "            return game_summary(c_choice , guessnum , False)\n",
        "\n",
        "    # Scoring\n",
        "    if prev_score[-1]['Bulls'] > rscore['Bulls']: \n",
        "        newchoice = guess(prev_guesses[-1] , prev_score[-1])\n",
        "        return score( newchoice[1] , newchoice[0] , c_choice  , scores_list , guesses_list , guessnum+1) # Forward\n",
        "\n",
        "    elif prev_score[-1]['Bulls'] == rscore['Bulls']:  \n",
        "        \n",
        "        if prev_score[-1]['Cows'] > rscore['Cows']:\n",
        "            newchoice = guess(prev_guesses[-1] , prev_score[-1])\n",
        "            return score( newchoice[1], newchoice[0] , c_choice  , scores_list , guesses_list , guessnum+1)  # Forward\n",
        "            \n",
        "        elif prev_score[-1]['Cows'] == rscore['Cows']:\n",
        "            newchoice = guess(p_choice,rscore)\n",
        "            return score( newchoice[1], newchoice[0] , c_choice  , scores_list , guesses_list , guessnum+1)  # Stay\n",
        "\n",
        "        elif prev_score[-1]['Cows'] < rscore['Cows']:\n",
        "            scores_list.append(rscore)\n",
        "            guesses_list.append(p_choice)\n",
        "            newchoice = guess(p_choice,rscore)\n",
        "            return score(newchoice[1], newchoice[0] , c_choice , scores_list  , guesses_list , guessnum+1)  # Backwards\n",
        "\n",
        "    elif prev_score[-1]['Bulls'] < rscore['Bulls']:\n",
        "            scores_list.append(rscore)\n",
        "            guesses_list.append(p_choice)\n",
        "            newchoice = guess(p_choice,rscore)\n",
        "            return score(newchoice[1], newchoice[0] , c_choice , scores_list  , guesses_list , guessnum+1)  # Backwards\n"
      ]
    },
    {
      "cell_type": "code",
      "execution_count": 7,
      "metadata": {},
      "outputs": [],
      "source": [
        "def guess(player_choice,score):\n",
        "    player_choice_copy = player_choice[:]  # For indexes\n",
        "    newchoice = player_choice[:]  # For masking the indexes\n",
        "    indexes = list(x for x in range(0,len(player_choice_copy))) # generating list of indexes in length of number of bulls and cows\n",
        "    \n",
        "    if score['Bulls'] > 0:\n",
        "        bullsindexes = random.sample(indexes ,score['Bulls'])  \n",
        "        indexes = [i for i in indexes if i not in bullsindexes]\n",
        "    if score['Cows'] > 0:\n",
        "        cowsindexes = random.sample(indexes ,score['Cows'])  \n",
        "        indexes = [i for i in indexes if i not in cowsindexes]\n",
        "\n",
        "    if len(indexes) == 0:  # When Bulls + Cows = choices\n",
        "        if score['Bulls'] == choices:  # Win\n",
        "            available_colors = newchoice\n",
        "            return newchoice , available_colors\n",
        "            \n",
        "        cowscolors = [player_choice_copy[i] for i in cowsindexes]\n",
        "        random.shuffle(cowscolors)\n",
        "        i = 0\n",
        "        for index in cowsindexes:\n",
        "            newchoice[index] = cowscolors[i]\n",
        "            i += 1\n",
        "        available_colors  = newchoice   # When all items are either bulls or cows, we guesses all colors correctly, just need to guess the order\n",
        "        \n",
        "    else:\n",
        "        if(score['Cows']  > 0):  \n",
        "            for i in cowsindexes:  # Guessing the cows (bulls are already in their indexes so left untouched)\n",
        "                newindex = random.choice(indexes)\n",
        "                newchoice[newindex] = player_choice_copy[i]\n",
        "                indexes.remove(newindex)\n",
        "                indexes.append(i)         \n",
        "        for i in indexes:   # Guessing the neither bulls or cows\n",
        "            if(repeated_colors == False):\n",
        "                available_colors = [color for color in colorslist if color not in newchoice]\n",
        "            else:\n",
        "                available_colors = colorslist\n",
        "            newchoice[i] = choice_generator(available_colors , 1 , repeated_colors)[0]    # generating new choice\n",
        "    return newchoice , available_colors\n"
      ]
    },
    {
      "cell_type": "code",
      "execution_count": 8,
      "metadata": {},
      "outputs": [],
      "source": [
        "def game_summary(computer_choice , guessnum , is_win):\n",
        "    if is_win == False:\n",
        "        print(f'You Lost! The hidden code was {computer_choice}')\n",
        "        return guessnum , False\n",
        "    elif is_win == True:\n",
        "        print(f'You Won! The hidden code was {computer_choice} and guessed after {guessnum} guesses!')\n",
        "        return guessnum , True"
      ]
    },
    {
      "cell_type": "markdown",
      "metadata": {},
      "source": [
        "Game Start:"
      ]
    },
    {
      "cell_type": "code",
      "execution_count": 9,
      "metadata": {},
      "outputs": [],
      "source": [
        "def StartGame():\n",
        "    if type(colorslist) != list or type(repeated_colors) != bool or type(choices) != int or type(isguesslimit) != bool or type(guesslimit) != int:\n",
        "        print('Error: One of the game parameters is not in the correct format, make sure they are all set to their correct format:')\n",
        "        print('colorlist - list /nrepeated_colors - bool/nchoices - int isguesslimit - bool/n guesslimit -  int')\n",
        "        return None\n",
        "    if repeated_colors == True:\n",
        "        print('This version is currently bugged, set repeated_colors to False to play this game.')\n",
        "        return None\n",
        "    if choices > len(colorslist) and repeated_colors == False:\n",
        "        print('Error: Number of choices can not be higher than length of colors list if there is no repetition!')\n",
        "        return None\n",
        "    if choices < 1:\n",
        "        print('Error: Number of choices must be atleast 1!')\n",
        "        return None\n",
        "    if len(colorslist) < 1:\n",
        "        print('Error: Number of choices must be atleast 1!')\n",
        "        return None\n",
        "    if isguesslimit == True and guesslimit < 1:\n",
        "        print('Error: Number of guesses must be atleast 1 if guess limit is true!')\n",
        "        return None\n",
        "    return score(colorslist,  p_choice = choice_generator(colorslist, choices , repeated_colors) , c_choice = choice_generator(colorslist, choices, repeated_colors) , guessnum = 1)"
      ]
    },
    {
      "cell_type": "code",
      "execution_count": 14,
      "metadata": {},
      "outputs": [
        {
          "name": "stdout",
          "output_type": "stream",
          "text": [
            "You Won! The hidden code was ['1', '8', '0', '4'] and guessed after 11 guesses!\n"
          ]
        },
        {
          "data": {
            "text/plain": [
              "(11, True)"
            ]
          },
          "execution_count": 14,
          "metadata": {},
          "output_type": "execute_result"
        }
      ],
      "source": [
        "StartGame()"
      ]
    }
  ],
  "metadata": {
    "colab": {
      "collapsed_sections": [],
      "name": "BullseyeAssignment.ipynb",
      "provenance": []
    },
    "interpreter": {
      "hash": "196566ed32f34fd2c933bbbccef8b8812ddc9716b2db55e80f9c1aec25ba275c"
    },
    "kernelspec": {
      "display_name": "Python 3.7.7 64-bit",
      "language": "python",
      "name": "python3"
    },
    "language_info": {
      "codemirror_mode": {
        "name": "ipython",
        "version": 3
      },
      "file_extension": ".py",
      "mimetype": "text/x-python",
      "name": "python",
      "nbconvert_exporter": "python",
      "pygments_lexer": "ipython3",
      "version": "3.7.7"
    }
  },
  "nbformat": 4,
  "nbformat_minor": 0
}
